{
 "cells": [
  {
   "cell_type": "markdown",
   "id": "c61b00ac-2761-456b-9e95-03dc688d9305",
   "metadata": {},
   "source": [
    "# My Jupyter Notebook on IBM Watson Studio"
   ]
  },
  {
   "cell_type": "markdown",
   "id": "aec9fc98-e832-442d-a158-7581a66ef8d2",
   "metadata": {},
   "source": [
    "**Susanne Ebmeyer**\n",
    "<br> Data Scientist"
   ]
  },
  {
   "cell_type": "markdown",
   "id": "d64de0a2-0fca-4312-af62-cb1d721bcae7",
   "metadata": {},
   "source": [
    "*I am interested in Data Science because working with data is fun.*"
   ]
  },
  {
   "cell_type": "markdown",
   "id": "c6ac9e5b-3aea-4a4a-87b7-3dfc8dd94f06",
   "metadata": {},
   "source": [
    "### The code below will show the result of a simple calculation:"
   ]
  },
  {
   "cell_type": "code",
   "execution_count": null,
   "id": "aab5fef1-8d83-4498-8231-8866db677c77",
   "metadata": {},
   "outputs": [],
   "source": []
  },
  {
   "cell_type": "code",
   "execution_count": 1,
   "id": "7b31dd72-ce91-473c-8ada-ab5ccd79ce8e",
   "metadata": {},
   "outputs": [
    {
     "data": {
      "text/plain": [
       "20"
      ]
     },
     "execution_count": 1,
     "metadata": {},
     "output_type": "execute_result"
    }
   ],
   "source": [
    "5 * 4"
   ]
  },
  {
   "cell_type": "markdown",
   "id": "00ce0fd9-7cd5-451d-871e-deadb34cbde2",
   "metadata": {},
   "source": [
    "* this is a \n",
    "* bullet list\n",
    "1. this is a \n",
    "2. numbered list\n"
   ]
  }
 ],
 "metadata": {
  "kernelspec": {
   "display_name": "Python",
   "language": "python",
   "name": "conda-env-python-py"
  },
  "language_info": {
   "codemirror_mode": {
    "name": "ipython",
    "version": 3
   },
   "file_extension": ".py",
   "mimetype": "text/x-python",
   "name": "python",
   "nbconvert_exporter": "python",
   "pygments_lexer": "ipython3",
   "version": "3.7.12"
  }
 },
 "nbformat": 4,
 "nbformat_minor": 5
}
